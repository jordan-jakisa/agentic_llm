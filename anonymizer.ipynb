{
  "nbformat": 4,
  "nbformat_minor": 0,
  "metadata": {
    "colab": {
      "provenance": [],
      "authorship_tag": "ABX9TyOTeyZpaORz+TR0A5p8kl7B",
      "include_colab_link": true
    },
    "kernelspec": {
      "name": "python3",
      "display_name": "Python 3"
    },
    "language_info": {
      "name": "python"
    }
  },
  "cells": [
    {
      "cell_type": "markdown",
      "metadata": {
        "id": "view-in-github",
        "colab_type": "text"
      },
      "source": [
        "<a href=\"https://colab.research.google.com/github/jordan-jakisa/agentic_llm/blob/main/anonymizer.ipynb\" target=\"_parent\"><img src=\"https://colab.research.google.com/assets/colab-badge.svg\" alt=\"Open In Colab\"/></a>"
      ]
    },
    {
      "cell_type": "markdown",
      "source": [
        "# Presidio-Analyzer and anonymizer example\n",
        "This code lab takes an example text containint PII and then it analyzes it, and then passes it to the anonymizer which anonymizes the PII from the original text."
      ],
      "metadata": {
        "id": "R3L6k_usBP86"
      }
    },
    {
      "cell_type": "markdown",
      "source": [
        "1. Install `presidio_anonymizer` and `presidio_analyzer` using pip\n"
      ],
      "metadata": {
        "id": "Y8CYnAHEBxga"
      }
    },
    {
      "cell_type": "code",
      "source": [
        "pip install presidio_anonymizer\n",
        "pip install presidio_analyzer"
      ],
      "metadata": {
        "colab": {
          "base_uri": "https://localhost:8080/"
        },
        "id": "aNZphiXPy3zf",
        "outputId": "03cccfd4-7b58-46d8-846e-8e691d5c0c2f"
      },
      "execution_count": null,
      "outputs": [
        {
          "output_type": "stream",
          "name": "stdout",
          "text": [
            "Requirement already satisfied: presidio_anonymizer in /usr/local/lib/python3.10/dist-packages (2.2.355)\n",
            "Requirement already satisfied: azure-core in /usr/local/lib/python3.10/dist-packages (from presidio_anonymizer) (1.30.2)\n",
            "Requirement already satisfied: pycryptodome>=3.10.1 in /usr/local/lib/python3.10/dist-packages (from presidio_anonymizer) (3.20.0)\n",
            "Requirement already satisfied: requests>=2.21.0 in /usr/local/lib/python3.10/dist-packages (from azure-core->presidio_anonymizer) (2.31.0)\n",
            "Requirement already satisfied: six>=1.11.0 in /usr/local/lib/python3.10/dist-packages (from azure-core->presidio_anonymizer) (1.16.0)\n",
            "Requirement already satisfied: typing-extensions>=4.6.0 in /usr/local/lib/python3.10/dist-packages (from azure-core->presidio_anonymizer) (4.12.2)\n",
            "Requirement already satisfied: charset-normalizer<4,>=2 in /usr/local/lib/python3.10/dist-packages (from requests>=2.21.0->azure-core->presidio_anonymizer) (3.3.2)\n",
            "Requirement already satisfied: idna<4,>=2.5 in /usr/local/lib/python3.10/dist-packages (from requests>=2.21.0->azure-core->presidio_anonymizer) (3.7)\n",
            "Requirement already satisfied: urllib3<3,>=1.21.1 in /usr/local/lib/python3.10/dist-packages (from requests>=2.21.0->azure-core->presidio_anonymizer) (2.0.7)\n",
            "Requirement already satisfied: certifi>=2017.4.17 in /usr/local/lib/python3.10/dist-packages (from requests>=2.21.0->azure-core->presidio_anonymizer) (2024.7.4)\n"
          ]
        }
      ]
    },
    {
      "cell_type": "markdown",
      "source": [
        "2. Import the `AnalyzerEngine` class and initialize it with an empty constructor."
      ],
      "metadata": {
        "id": "r2HVWcriCHjn"
      }
    },
    {
      "cell_type": "code",
      "source": [
        "from presidio_analyzer import AnalyzerEngine\n",
        "analyzer_engine = AnalyzerEngine()"
      ],
      "metadata": {
        "id": "IbgzTCam6TuP",
        "colab": {
          "base_uri": "https://localhost:8080/"
        },
        "outputId": "d6c319eb-6708-4b08-9bc2-a847a6053632"
      },
      "execution_count": 5,
      "outputs": [
        {
          "output_type": "stream",
          "name": "stderr",
          "text": [
            "WARNING:presidio-analyzer:Recognizer not added to registry because language is not supported by registry - CreditCardRecognizer supported languages: es, registry supported languages: en\n",
            "WARNING:presidio-analyzer:Recognizer not added to registry because language is not supported by registry - CreditCardRecognizer supported languages: it, registry supported languages: en\n",
            "WARNING:presidio-analyzer:Recognizer not added to registry because language is not supported by registry - CreditCardRecognizer supported languages: pl, registry supported languages: en\n",
            "WARNING:presidio-analyzer:Recognizer not added to registry because language is not supported by registry - EsNifRecognizer supported languages: es, registry supported languages: en\n",
            "WARNING:presidio-analyzer:Recognizer not added to registry because language is not supported by registry - EsNieRecognizer supported languages: es, registry supported languages: en\n",
            "WARNING:presidio-analyzer:Recognizer not added to registry because language is not supported by registry - ItDriverLicenseRecognizer supported languages: it, registry supported languages: en\n",
            "WARNING:presidio-analyzer:Recognizer not added to registry because language is not supported by registry - ItFiscalCodeRecognizer supported languages: it, registry supported languages: en\n",
            "WARNING:presidio-analyzer:Recognizer not added to registry because language is not supported by registry - ItVatCodeRecognizer supported languages: it, registry supported languages: en\n",
            "WARNING:presidio-analyzer:Recognizer not added to registry because language is not supported by registry - ItIdentityCardRecognizer supported languages: it, registry supported languages: en\n",
            "WARNING:presidio-analyzer:Recognizer not added to registry because language is not supported by registry - ItPassportRecognizer supported languages: it, registry supported languages: en\n",
            "WARNING:presidio-analyzer:Recognizer not added to registry because language is not supported by registry - PlPeselRecognizer supported languages: pl, registry supported languages: en\n"
          ]
        }
      ]
    },
    {
      "cell_type": "markdown",
      "source": [
        "3. Call the `analyze()` method of the `analyzer_engine` and pass in the required parameters of `text` and `language`"
      ],
      "metadata": {
        "id": "SPyxSI28CVDb"
      }
    },
    {
      "cell_type": "code",
      "source": [
        "results = analyzer_engine.analyze(\n",
        "    text = \"My name is Jordan and my phone number is 0778123456\",\n",
        "    language='en',\n",
        ")\n",
        "print(f\"Results: {results}\")"
      ],
      "metadata": {
        "colab": {
          "base_uri": "https://localhost:8080/"
        },
        "id": "6m-lyW4q_yTq",
        "outputId": "8edc8c93-d883-4e59-b4a7-c802d6222c32"
      },
      "execution_count": 6,
      "outputs": [
        {
          "output_type": "stream",
          "name": "stdout",
          "text": [
            "Results: [type: PERSON, start: 11, end: 17, score: 0.85, type: PHONE_NUMBER, start: 41, end: 51, score: 0.75, type: US_BANK_NUMBER, start: 41, end: 51, score: 0.05, type: US_DRIVER_LICENSE, start: 41, end: 51, score: 0.01]\n"
          ]
        }
      ]
    },
    {
      "cell_type": "markdown",
      "source": [
        "4. Import the `AnonymzerEngine` class"
      ],
      "metadata": {
        "id": "NTN2dFaRCtBC"
      }
    },
    {
      "cell_type": "code",
      "source": [
        "from presidio_anonymizer import AnonymizerEngine"
      ],
      "metadata": {
        "id": "FyRA9XWtAOab"
      },
      "execution_count": 7,
      "outputs": []
    },
    {
      "cell_type": "markdown",
      "source": [
        "4. Create an instance of the `AnonymizerEngine` with empty constructors."
      ],
      "metadata": {
        "id": "lXlgqbmVCzBV"
      }
    },
    {
      "cell_type": "code",
      "source": [
        "anonymizer_engine = AnonymizerEngine()"
      ],
      "metadata": {
        "id": "VV0COfdfAZX6"
      },
      "execution_count": 8,
      "outputs": []
    },
    {
      "cell_type": "markdown",
      "source": [
        "5. Call the `anonymize()` method and pass the required parameters of `text` and the `analyzer_results` from the previous step."
      ],
      "metadata": {
        "id": "nVmviyHeDDjF"
      }
    },
    {
      "cell_type": "code",
      "source": [
        "anonymizer_results = anonymizer_engine.anonymize(\n",
        "    text=\"My name is Jordan and my phone number is 0778123456\",\n",
        "    analyzer_results=results\n",
        ")"
      ],
      "metadata": {
        "id": "CN4paHtkAf-w"
      },
      "execution_count": 9,
      "outputs": []
    },
    {
      "cell_type": "markdown",
      "source": [
        "6. Print the final text free from all PII text."
      ],
      "metadata": {
        "id": "69FTBNU2DWNQ"
      }
    },
    {
      "cell_type": "code",
      "source": [
        "print(anonymizer_results)"
      ],
      "metadata": {
        "colab": {
          "base_uri": "https://localhost:8080/"
        },
        "id": "qUT6kE4_Av-y",
        "outputId": "0844283e-ba46-43d7-84e4-8ee0e650b41f"
      },
      "execution_count": 10,
      "outputs": [
        {
          "output_type": "stream",
          "name": "stdout",
          "text": [
            "text: My name is <PERSON> and my phone number is <PHONE_NUMBER>\n",
            "items:\n",
            "[\n",
            "    {'start': 43, 'end': 57, 'entity_type': 'PHONE_NUMBER', 'text': '<PHONE_NUMBER>', 'operator': 'replace'},\n",
            "    {'start': 11, 'end': 19, 'entity_type': 'PERSON', 'text': '<PERSON>', 'operator': 'replace'}\n",
            "]\n",
            "\n"
          ]
        }
      ]
    },
    {
      "cell_type": "code",
      "source": [
        "# @title Default title text\n"
      ],
      "metadata": {
        "cellView": "form",
        "id": "YlRfRA_ZA0Fy"
      },
      "execution_count": null,
      "outputs": []
    },
    {
      "cell_type": "markdown",
      "source": [],
      "metadata": {
        "id": "aX0qoS04BMCF"
      }
    },
    {
      "cell_type": "code",
      "source": [],
      "metadata": {
        "id": "2du2CzCZBNbG"
      },
      "execution_count": null,
      "outputs": []
    }
  ]
}